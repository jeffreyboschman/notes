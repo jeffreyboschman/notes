# Okay so is this a juptyer notebook?

Or do I have to actually write a ipynb file on my local computer, and then push it to this repo?
